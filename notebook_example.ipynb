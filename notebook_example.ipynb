{
 "cells": [
  {
   "cell_type": "markdown",
   "id": "c20c937c-c139-4e6e-afb1-3ad7ed1660d4",
   "metadata": {},
   "source": [
    "# First Program\n",
    "This is our first program that prints a message."
   ]
  },
  {
   "cell_type": "code",
   "execution_count": 2,
   "id": "5307dc00-caa8-45bb-92cf-f57a2bc99b77",
   "metadata": {},
   "outputs": [
    {
     "name": "stdout",
     "output_type": "stream",
     "text": [
      "Hello, world!\n",
      "Second, world!\n"
     ]
    }
   ],
   "source": [
    "print('Hello, world!')\n",
    "print('Second, world!')"
   ]
  },
  {
   "cell_type": "markdown",
   "id": "881b386a-249c-497d-b41a-4ab74f4ed0f0",
   "metadata": {},
   "source": [
    "# This is some more documentation \n",
    "- Here is 1 item\n",
    "- Here is another item "
   ]
  },
  {
   "cell_type": "code",
   "execution_count": 3,
   "id": "56041705-6ad9-4411-8440-4ac523141164",
   "metadata": {},
   "outputs": [],
   "source": [
    "import pandas as pd "
   ]
  },
  {
   "cell_type": "code",
   "execution_count": 4,
   "id": "c25c0945-9f54-4861-b856-abb5e21bb165",
   "metadata": {},
   "outputs": [
    {
     "name": "stdout",
     "output_type": "stream",
     "text": [
      "<module 'pandas' from 'C:\\\\Users\\\\nitar\\\\anaconda3\\\\Lib\\\\site-packages\\\\pandas\\\\__init__.py'>\n"
     ]
    }
   ],
   "source": [
    "print(pd)"
   ]
  },
  {
   "cell_type": "code",
   "execution_count": 4,
   "id": "eb90ec73-1439-4d33-ace5-53f14ea32f19",
   "metadata": {},
   "outputs": [
    {
     "data": {
      "text/plain": [
       "0    1\n",
       "1    2\n",
       "2    3\n",
       "dtype: int64"
      ]
     },
     "execution_count": 4,
     "metadata": {},
     "output_type": "execute_result"
    }
   ],
   "source": [
    "data = [1, 2, 3]\n",
    "pd.Series(data=data)"
   ]
  },
  {
   "cell_type": "code",
   "execution_count": null,
   "id": "ecb538ed",
   "metadata": {},
   "outputs": [],
   "source": []
  }
 ],
 "metadata": {
  "kernelspec": {
   "display_name": "Python 3 (ipykernel)",
   "language": "python",
   "name": "python3"
  },
  "language_info": {
   "codemirror_mode": {
    "name": "ipython",
    "version": 3
   },
   "file_extension": ".py",
   "mimetype": "text/x-python",
   "name": "python",
   "nbconvert_exporter": "python",
   "pygments_lexer": "ipython3",
   "version": "3.11.7"
  }
 },
 "nbformat": 4,
 "nbformat_minor": 5
}
